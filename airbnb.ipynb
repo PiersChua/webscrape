{
 "cells": [
  {
   "cell_type": "code",
   "execution_count": 1,
   "metadata": {},
   "outputs": [],
   "source": [
    "from selenium import webdriver\n",
    "from bs4 import BeautifulSoup\n",
    "import time\n",
    "from urllib.parse import urlparse #renamed to urlib.parse in python 3\n",
    "\n",
    "from selenium.webdriver.support.wait import WebDriverWait\n",
    "from selenium.webdriver.support import expected_conditions as EC\n",
    "from selenium.webdriver.common.by import By\n",
    "import pandas as pd\n",
    "from pathlib import Path"
   ]
  },
  {
   "cell_type": "code",
   "execution_count": null,
   "metadata": {},
   "outputs": [],
   "source": [
    "url = \"https://www.airbnb.com.sg/s/Bangkok--Thailand/homes?refinement_paths%5B%5D=%2Fhomes&checkin=2024-10-04&checkout=2024-10-10&adults=3&tab_id=home_tab&query=Bangkok%2C%20Thailand&flexible_trip_lengths%5B%5D=one_week&monthly_start_date=2024-08-01&monthly_length=3&monthly_end_date=2024-11-01&price_filter_input_type=0&price_filter_num_nights=6&channel=EXPLORE&date_picker_type=calendar&place_id=ChIJ82ENKDJgHTERIEjiXbIAAQE&source=structured_search_input_header&search_type=user_map_move&search_mode=regular_search&ne_lat=13.810393924485789&ne_lng=100.5597668742775&sw_lat=13.71428581582692&sw_lng=100.48846329668004&zoom=12.786708747368644&zoom_level=12.786708747368644&search_by_map=true\"\n",
    "# url = \"https://www.airbnb.com.sg/s/Indonesia/homes?refinement_paths%5B%5D=%2Fhomes&checkin=2024-07-25&checkout=2024-07-27&adults=2&children=0\"\n",
    "parsed_url = urlparse(url)\n",
    "root_url = f\"{parsed_url.scheme}://{parsed_url.netloc}\"\n",
    "driver = webdriver.Chrome()\n",
    "driver.get(url)\n",
    "try:\n",
    "    element = WebDriverWait(driver, 10).until(\n",
    "    EC.presence_of_all_elements_located((By.XPATH, \"//div[@itemprop='itemListElement']\"))\n",
    ")\n",
    "\n",
    "finally:\n",
    "    html_content = driver.page_source\n",
    "    driver.quit()\n",
    "# time.sleep(5)\n",
    "# html_content = driver.page_source\n",
    "# driver.quit()\n",
    "\n",
    "soup=BeautifulSoup(html_content,'html.parser')\n",
    "\n",
    "listings = soup.find_all(\"div\",{\"itemprop\":\"itemListElement\"})\n",
    "for listing in listings:\n",
    "    title = listing.find('div',{'data-testid':'listing-card-title'}).text.strip()\n",
    "    rating = listing.find('div',{'class':'t1a9j9y7'}).text.strip().split()[0]\n",
    "    price = listing.find('span',{\"class\":\"_11jcbg2\"}).text.strip().split()[0]\n",
    "    price_tax = listing.find('div',{'class':'_i5duul'}).find('div',{\"class\":\"_10d7v0r\"}).text.strip().split()[0]\n",
    "    link = listing.find('a').get('href')\n",
    "    # Reconstruct the absolute link\n",
    "    link = root_url+link\n",
    "    print(f\"Title: {title}\\nRating: {rating}/5\\nPrice: {price}\\nTotal Price: {price_tax}\\nLink: {link} \\n\\n\")"
   ]
  },
  {
   "cell_type": "code",
   "execution_count": 9,
   "metadata": {},
   "outputs": [],
   "source": [
    "url = \"https://www.airbnb.com.sg/s/Bangkok--Thailand/homes?refinement_paths%5B%5D=%2Fhomes&checkin=2024-10-04&checkout=2024-10-10&adults=3&tab_id=home_tab&query=Bangkok%2C%20Thailand&flexible_trip_lengths%5B%5D=one_week&monthly_start_date=2024-08-01&monthly_length=3&monthly_end_date=2024-11-01&price_filter_input_type=0&price_filter_num_nights=6&channel=EXPLORE&date_picker_type=calendar&place_id=ChIJ82ENKDJgHTERIEjiXbIAAQE&source=structured_search_input_header&search_type=user_map_move&search_mode=regular_search&ne_lat=13.810393924485789&ne_lng=100.5597668742775&sw_lat=13.71428581582692&sw_lng=100.48846329668004&zoom=12.786708747368644&zoom_level=12.786708747368644&search_by_map=true\"\n",
    "# url = \"https://www.airbnb.com.sg/s/Indonesia/homes?refinement_paths%5B%5D=%2Fhomes&checkin=2024-07-25&checkout=2024-07-27&adults=2&children=0\"\n",
    "parsed_url = urlparse(url)\n",
    "root_url = f\"{parsed_url.scheme}://{parsed_url.netloc}\"\n",
    "driver = webdriver.Chrome()\n",
    "driver.get(url)\n",
    "airbnb_data = pd.DataFrame(columns=[\"Title\", \"Rating\", \"Price/night (SGD)\", \"Total Price (SGD)\", \"Link\"])\n",
    "try:\n",
    "    while True:\n",
    "        element = WebDriverWait(driver, 10).until(\n",
    "        EC.presence_of_all_elements_located((By.XPATH, \"//div[@itemprop='itemListElement']\"))\n",
    "        )\n",
    "        pagination = WebDriverWait(driver, 10).until(\n",
    "        EC.element_to_be_clickable((By.CLASS_NAME, \"p1j2gy66\"))\n",
    "        )\n",
    "        html_content = driver.page_source\n",
    "        soup=BeautifulSoup(html_content,'html.parser')\n",
    "\n",
    "        listings = soup.find_all(\"div\",{\"itemprop\":\"itemListElement\"})\n",
    "        for listing in listings:\n",
    "            try:\n",
    "                title = listing.find('div',{'data-testid':'listing-card-title'}).text.strip()\n",
    "                rating = listing.find('div',{'class':'t1a9j9y7'}).text.strip().split()[0]\n",
    "                price = listing.find('span',{\"class\":\"_11jcbg2\"}).text.strip().split()[0]\n",
    "                price_tax = listing.find('div',{'class':'_i5duul'}).find('div',{\"class\":\"_10d7v0r\"}).text.strip().split()[0]\n",
    "                link = listing.find('a').get('href')\n",
    "                # Reconstruct the absolute link\n",
    "                link = root_url+link\n",
    "                current_data = pd.DataFrame({\n",
    "                    \"Title\":title,\n",
    "                    \"Rating\":rating,\n",
    "                    \"Price/night (SGD)\":price,\n",
    "                    \"Total Price (SGD)\":price_tax,\n",
    "                    \"Link\":[link]\n",
    "                })\n",
    "                airbnb_data = pd.concat([airbnb_data, current_data], axis = 0)\n",
    "                # print(f\"Title: {title}\\nRating: {rating}/5\\nPrice: {price}\\nTotal Price: {price_tax}\\nLink: {link} \\n\\n\")\n",
    "            \n",
    "            # skip the current listing if contain missing info/error\n",
    "            except:\n",
    "                continue\n",
    "        button = soup.find('a',{'aria-label':'Next'})\n",
    "        # check for last page\n",
    "        if button:\n",
    "            button = root_url+button.get('href')\n",
    "            driver.get(button)\n",
    "        else:\n",
    "            break\n",
    "   \n",
    "finally:\n",
    "    driver.quit()\n",
    "    file_path = Path('./dataset/airbnb.csv')\n",
    "    file_path.parent.mkdir(parents = True, exist_ok = True)\n",
    "    airbnb_data.to_csv(file_path, index = False)"
   ]
  },
  {
   "cell_type": "code",
   "execution_count": 18,
   "metadata": {},
   "outputs": [
    {
     "name": "stdout",
     "output_type": "stream",
     "text": [
      "                                 Title Rating  Price/night (SGD)  \\\n",
      "214  Place to stay in Khet Phra Nakhon   4.45                 22   \n",
      "98                     Flat in Bangkok   4.73                 31   \n",
      "192  Flat in Khet Pom Prap Sattru Phai   4.64                 31   \n",
      "244            Hostel in Khet Bang Rak   4.52                 32   \n",
      "110  Flat in Khet Pom Prap Sattru Phai   4.76                 33   \n",
      "\n",
      "    Total Price (SGD)                                               Link  \n",
      "214              $142  https://www.airbnb.com.sg/rooms/93675883819483...  \n",
      "98               $199  https://www.airbnb.com.sg/rooms/21942959?adult...  \n",
      "192              $199  https://www.airbnb.com.sg/rooms/11722665?adult...  \n",
      "244              $191  https://www.airbnb.com.sg/rooms/31764152?adult...  \n",
      "110              $212  https://www.airbnb.com.sg/rooms/21892849?adult...  \n"
     ]
    }
   ],
   "source": [
    "data = pd.read_csv(\"./dataset/airbnb.csv\")\n",
    "data[\"Price/night (SGD)\"] = data[\"Price/night (SGD)\"].str.replace(\"$\", \"\").astype('int')\n",
    "print(data.sort_values(by=\"Price/night (SGD)\").head())"
   ]
  },
  {
   "cell_type": "code",
   "execution_count": null,
   "metadata": {},
   "outputs": [],
   "source": []
  }
 ],
 "metadata": {
  "kernelspec": {
   "display_name": "webscrape",
   "language": "python",
   "name": "python3"
  },
  "language_info": {
   "codemirror_mode": {
    "name": "ipython",
    "version": 3
   },
   "file_extension": ".py",
   "mimetype": "text/x-python",
   "name": "python",
   "nbconvert_exporter": "python",
   "pygments_lexer": "ipython3",
   "version": "3.12.4"
  }
 },
 "nbformat": 4,
 "nbformat_minor": 2
}
